{
  "cells": [
    {
      "cell_type": "markdown",
      "metadata": {
        "id": "view-in-github",
        "colab_type": "text"
      },
      "source": [
        "<a href=\"https://colab.research.google.com/github/shawnmalik1/DS2002/blob/main/python/superhero_assignment.ipynb\" target=\"_parent\"><img src=\"https://colab.research.google.com/assets/colab-badge.svg\" alt=\"Open In Colab\"/></a>"
      ]
    },
    {
      "cell_type": "markdown",
      "id": "5fa8dcf6",
      "metadata": {
        "id": "5fa8dcf6"
      },
      "source": [
        "# Superhero Database Assignment (SQLite & Google Colab)\n",
        "\n",
        "## Objective\n",
        "In this assignment, you will design and implement a **Superhero Database** using SQLite in Google Colab. This database will store superheroes, villains, and their battles. You will write SQL queries to analyze battle outcomes and relationships between heroes and villains.\n",
        "\n",
        "### Group Size:\n",
        "- 2 to 3 students per group.\n",
        "\n",
        "### Tools Required:\n",
        "- **Google Colab**\n",
        "- **SQLite (built into Python)**\n",
        "- **CSV files (provided for import)**"
      ]
    },
    {
      "cell_type": "markdown",
      "id": "5535e625",
      "metadata": {
        "id": "5535e625"
      },
      "source": [
        "## Step 1: Setting Up Your SQLite Database\n",
        "\n",
        "### Tasks:\n",
        "1. Initialize SQLite in Google Colab.\n",
        "2. Create a database named `superhero_db.sqlite`.\n",
        "3. Define the database schema, ensuring it includes the following tables:\n",
        "   - `heroes`: Stores superhero names, powers, and teams.\n",
        "   - `villains`: Stores villains and their evil plans.\n",
        "   - `battles`: Tracks battles between heroes and villains, including the outcome.\n",
        "4. Implement primary keys and foreign keys where appropriate.\n",
        "\n",
        "✅ **Checkpoint:** Ensure that the database and tables have been successfully created."
      ]
    },
    {
      "cell_type": "code",
      "source": [
        "import sqlite3\n",
        "\n",
        "conn = sqlite3.connect('superhero_db.sqlite')\n",
        "\n",
        "print(\"Database created and connected!\")\n",
        "\n",
        "cursor  = conn.cursor()\n",
        "\n",
        "cursor.execute('''\n",
        "CREATE TABLE IF NOT EXISTS heroes (\n",
        "    id INTEGER PRIMARY KEY,\n",
        "    name TEXT,\n",
        "    power TEXT,\n",
        "    team TEXT\n",
        ")\n",
        "''')\n",
        "\n",
        "cursor.execute('''\n",
        "CREATE TABLE IF NOT EXISTS villains (\n",
        "    id INTEGER PRIMARY KEY,\n",
        "    name TEXT,\n",
        "    evil_plan TEXT\n",
        ")\n",
        "''')\n",
        "\n",
        "cursor.execute('''\n",
        "CREATE TABLE IF NOT EXISTS battles (\n",
        "    id INTEGER PRIMARY KEY,\n",
        "    hero_id INTEGER,\n",
        "    villain_id INTEGER,\n",
        "    outcome TEXT,\n",
        "    FOREIGN KEY (hero_id) REFERENCES heroes(id),\n",
        "    FOREIGN KEY (villain_id) REFERENCES villains(id)\n",
        ")\n",
        "''')\n",
        "\n",
        "conn.commit()\n",
        "\n",
        "print(\"Tables created successfully!\")\n",
        "\n"
      ],
      "metadata": {
        "colab": {
          "base_uri": "https://localhost:8080/"
        },
        "id": "lf95mcys4nn5",
        "outputId": "57e56e07-cc98-4eac-f4c5-fdb0aee31f9a"
      },
      "id": "lf95mcys4nn5",
      "execution_count": 1,
      "outputs": [
        {
          "output_type": "stream",
          "name": "stdout",
          "text": [
            "Database created and connected!\n",
            "Tables created successfully!\n"
          ]
        }
      ]
    },
    {
      "cell_type": "markdown",
      "id": "154b3c3a",
      "metadata": {
        "id": "154b3c3a"
      },
      "source": [
        "## Step 2: Import Data from CSV Files\n",
        "\n",
        "### Tasks:\n",
        "1. Download the provided CSV files.\n",
        "2. Upload them to Google Colab.\n",
        "3. Write a script to import data from these files into the appropriate tables.\n",
        "4. Verify that the data has been successfully inserted.\n",
        "\n",
        "✅ **Checkpoint:** Ensure that each table contains the expected data from the CSV files."
      ]
    },
    {
      "cell_type": "code",
      "source": [
        "import pandas as pd\n",
        "\n",
        "heroes_df = pd.read_csv('heroes.csv')\n",
        "villains_df = pd.read_csv('villains.csv')\n",
        "battles_df = pd.read_csv('battles.csv')\n",
        "\n",
        "print(\"Data imported successfully!\")\n",
        "\n",
        "conn = sqlite3.connect('superhero_db.sqlite')"
      ],
      "metadata": {
        "colab": {
          "base_uri": "https://localhost:8080/"
        },
        "id": "PCP5d3A15ktM",
        "outputId": "8efba4e2-8cf7-4468-88b8-c33fa707e7ce"
      },
      "id": "PCP5d3A15ktM",
      "execution_count": 2,
      "outputs": [
        {
          "output_type": "stream",
          "name": "stdout",
          "text": [
            "Data imported successfully!\n"
          ]
        }
      ]
    },
    {
      "cell_type": "markdown",
      "id": "33548d9f",
      "metadata": {
        "id": "33548d9f"
      },
      "source": [
        "## Step 3: Querying the Database\n",
        "\n",
        "### Tasks:\n",
        "Write SQL queries to answer the following:\n",
        "1. Retrieve all superheroes and their powers.\n",
        "2. Find all battles where the hero won.\n",
        "3. List all villains and their evil plans.\n",
        "4. Determine which superhero has fought the most battles.\n",
        "\n",
        "✅ **Checkpoint:** Ensure that all queries return meaningful results from the database."
      ]
    },
    {
      "cell_type": "code",
      "source": [
        "#1\n",
        "cursor.execute('''\n",
        "SELECT name, power\n",
        "FROM heroes\n",
        "''')\n",
        "\n",
        "heroes = cursor.fetchall()\n",
        "\n",
        "for hero in heroes:\n",
        "    print(hero)\n",
        "\n",
        "print(\"\\n\")\n",
        "\n",
        "#2\n",
        "cursor.execute('''\n",
        "SELECT heroes.name, battles.outcome\n",
        "FROM heroes\n",
        "JOIN battles ON heroes.id = battles.hero_id\n",
        "WHERE battles.outcome = 'Hero Wins'\n",
        "''')\n",
        "\n",
        "battles = cursor.fetchall()\n",
        "\n",
        "for battle in battles:\n",
        "    print(battle)\n",
        "\n",
        "print(\"\\n\")\n",
        "\n",
        "#3\n",
        "cursor.execute('''\n",
        "SELECT name, evil_plan\n",
        "FROM villains\n",
        "''')\n",
        "\n",
        "villains = cursor.fetchall()\n",
        "\n",
        "for villain in villains:\n",
        "    print(villain)\n",
        "\n",
        "print(\"\\n\")\n",
        "\n",
        "#4\n",
        "cursor.execute('''\n",
        "SELECT heroes.name, COUNT(battles.id) AS battle_count\n",
        "FROM heroes\n",
        "LEFT JOIN battles ON heroes.id = battles.hero_id\n",
        "GROUP BY heroes.id\n",
        "ORDER BY battle_count DESC\n",
        "LIMIT 1\n",
        "''')\n",
        "\n",
        "most_frequent_hero = cursor.fetchone()\n",
        "\n",
        "print(most_frequent_hero)\n",
        "\n",
        "conn.commit()"
      ],
      "metadata": {
        "colab": {
          "base_uri": "https://localhost:8080/"
        },
        "id": "DijWpR3n6hj7",
        "outputId": "11e548ad-b81f-425a-83f9-dae80edb6e92"
      },
      "id": "DijWpR3n6hj7",
      "execution_count": 3,
      "outputs": [
        {
          "output_type": "stream",
          "name": "stdout",
          "text": [
            "('Spider-Man', 'Web-slinging')\n",
            "('Iron Man', 'Powered Armor')\n",
            "('Batman', 'Genius Detective')\n",
            "('Superman', 'Super Strength')\n",
            "('Thor', 'God of Thunder')\n",
            "('Wonder Woman', 'Amazonian Strength')\n",
            "('Black Panther', 'Enhanced Agility')\n",
            "('The Flash', 'Super Speed')\n",
            "('Hulk', 'Super Strength')\n",
            "('Doctor Strange', 'Mystic Arts')\n",
            "\n",
            "\n",
            "('Hulk', 'Hero Wins')\n",
            "('Spider-Man', 'Hero Wins')\n",
            "('Hulk', 'Hero Wins')\n",
            "('Batman', 'Hero Wins')\n",
            "('Black Panther', 'Hero Wins')\n",
            "('The Flash', 'Hero Wins')\n",
            "('Batman', 'Hero Wins')\n",
            "('Batman', 'Hero Wins')\n",
            "('Thor', 'Hero Wins')\n",
            "\n",
            "\n",
            "('Green Goblin', 'Terrorize New York')\n",
            "('Thanos', 'Collect all Infinity Stones')\n",
            "('Joker', 'Spread chaos in Gotham')\n",
            "('Lex Luthor', 'Defeat Superman')\n",
            "('Loki', 'Trick humanity into worshiping him')\n",
            "('Ultron', 'AI world domination')\n",
            "('Darkseid', 'Control the universe')\n",
            "('Venom', 'Consume Spider-Man')\n",
            "('Magneto', 'Mutant supremacy')\n",
            "('Red Skull', 'Revive Hydra')\n",
            "\n",
            "\n",
            "('Batman', 7)\n"
          ]
        }
      ]
    },
    {
      "cell_type": "markdown",
      "id": "de8bda94",
      "metadata": {
        "id": "de8bda94"
      },
      "source": [
        "## Step 4: Add a Custom Feature\n",
        "\n",
        "### Tasks:\n",
        "1. Design and implement an additional table related to superheroes or villains.\n",
        "2. Populate it with data.\n",
        "3. Write at least one query to retrieve meaningful insights from the new table.\n",
        "\n",
        "**Examples of Custom Features:**\n",
        "- Sidekicks for superheroes\n",
        "- Villain hideouts\n",
        "- Battle locations\n",
        "- Superhero equipment\n",
        "\n",
        "✅ **Checkpoint:** Ensure that the new table and queries function correctly."
      ]
    },
    {
      "cell_type": "code",
      "source": [
        "\n",
        "cursor.execute('''\n",
        "CREATE TABLE IF NOT EXISTS sidekicks (\n",
        "    id INTEGER PRIMARY KEY,\n",
        "    hero_id INTEGER,\n",
        "    sidekick_name TEXT,\n",
        "    FOREIGN KEY (hero_id) REFERENCES heroes(id)\n",
        ")\n",
        "''')\n",
        "\n",
        "conn.commit()\n",
        "\n",
        "print(\"Sidekicks table created successfully!\")\n",
        "\n",
        "sidekick_data = [\n",
        "    (1, 1, 'Sidekick 1'),\n",
        "    (2, 2, 'Sidekick 2'),\n",
        "    (3, 3, 'Sidekick 3'),\n",
        "    (4, 4, 'Sidekick 4'),\n",
        "    (5, 5, 'Sidekick 5')\n",
        "]\n",
        "\n",
        "print(\"Sidekicks data inserted successfully!\")\n",
        "\n",
        "conn.commit()\n",
        "\n",
        "print(\"Sidekicks data inserted successfully!\")\n",
        "cursor.execute('''\n",
        "SELECT heroes.name, sidekicks.sidekick_name\n",
        "FROM heroes\n",
        "JOIN sidekicks ON heroes.id = sidekicks.hero_id\n",
        "''')\n",
        "\n",
        "sidekicks = cursor.fetchall()\n",
        "\n",
        "for sidekick in sidekicks:\n",
        "    print(sidekick)\n"
      ],
      "metadata": {
        "colab": {
          "base_uri": "https://localhost:8080/"
        },
        "id": "jVEieJAm84xG",
        "outputId": "22267eeb-ec0c-4615-d2a1-9c0ae378f02b"
      },
      "id": "jVEieJAm84xG",
      "execution_count": 9,
      "outputs": [
        {
          "output_type": "stream",
          "name": "stdout",
          "text": [
            "Sidekicks table created successfully!\n",
            "Sidekicks data inserted successfully!\n",
            "Sidekicks data inserted successfully!\n",
            "('Spider-Man', 'Sidekick 1')\n",
            "('Iron Man', 'Sidekick 2')\n",
            "('Batman', 'Sidekick 3')\n",
            "('Superman', 'Sidekick 4')\n",
            "('Thor', 'Sidekick 5')\n"
          ]
        }
      ]
    },
    {
      "cell_type": "markdown",
      "id": "9bf43fe6",
      "metadata": {
        "id": "9bf43fe6"
      },
      "source": [
        "## Bonus Challenge (+5 Points)\n",
        "\n",
        "### Tasks:\n",
        "1. Enhance your project by adding a visual or interactive component.\n",
        "\n",
        "**Options:**\n",
        "- Visualize battles using Matplotlib (e.g., a bar chart showing how many battles each superhero has fought).\n",
        "- Make it interactive (e.g., allow users to input a superhero name and display their battles).\n",
        "\n",
        "✅ **Checkpoint:** If attempting the bonus, ensure that your visualization or interactive component works correctly."
      ]
    },
    {
      "cell_type": "markdown",
      "id": "89f56c05",
      "metadata": {
        "id": "89f56c05"
      },
      "source": [
        "## Submission Guidelines\n",
        "\n",
        "Each group must submit a **Google Colab Notebook (.ipynb)** containing:\n",
        "- ✅ **Database schema (DDL)**\n",
        "- ✅ **CSV imports & data insertion (DML)**\n",
        "- ✅ **SQL queries & results**\n",
        "- ✅ **Custom feature (bonus if applicable)**"
      ]
    },
    {
      "cell_type": "markdown",
      "id": "61477c9b",
      "metadata": {
        "id": "61477c9b"
      },
      "source": [
        "## Grading Criteria (Total: 25 Points)\n",
        "\n",
        "| Section                 | Points |\n",
        "|-------------------------|--------|\n",
        "| Database Setup          | 5      |\n",
        "| Data Importing         | 10     |\n",
        "| Querying the Data      | 10     |\n",
        "| Extra Feature          | 5      |\n",
        "| Bonus Challenge (Optional) | +5  |"
      ]
    },
    {
      "cell_type": "markdown",
      "id": "92bf6839",
      "metadata": {
        "id": "92bf6839"
      },
      "source": [
        "### Final Notes:\n",
        "- Be **creative** when designing superheroes and villains.\n",
        "- **Comment your code** to explain its functionality.\n",
        "- **Have fun** building your superhero universe!"
      ]
    }
  ],
  "metadata": {
    "colab": {
      "provenance": [],
      "include_colab_link": true
    },
    "language_info": {
      "name": "python"
    },
    "kernelspec": {
      "name": "python3",
      "display_name": "Python 3"
    }
  },
  "nbformat": 4,
  "nbformat_minor": 5
}